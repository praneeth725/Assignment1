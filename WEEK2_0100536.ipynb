{
  "nbformat": 4,
  "nbformat_minor": 0,
  "metadata": {
    "colab": {
      "provenance": [],
      "authorship_tag": "ABX9TyPOp0IYZ6tuhT/CTVLxzJ/u",
      "include_colab_link": true
    },
    "kernelspec": {
      "name": "python3",
      "display_name": "Python 3"
    },
    "language_info": {
      "name": "python"
    }
  },
  "cells": [
    {
      "cell_type": "markdown",
      "metadata": {
        "id": "view-in-github",
        "colab_type": "text"
      },
      "source": [
        "<a href=\"https://colab.research.google.com/github/praneeth725/Assignment1/blob/main/WEEK2_0100536.ipynb\" target=\"_parent\"><img src=\"https://colab.research.google.com/assets/colab-badge.svg\" alt=\"Open In Colab\"/></a>"
      ]
    },
    {
      "cell_type": "markdown",
      "source": [
        "SOFTWARE ENGINEERING LAB WEEK 2 TASK - HU22CSEN0100536"
      ],
      "metadata": {
        "id": "8O5zrWlSsGtm"
      }
    },
    {
      "cell_type": "markdown",
      "source": [
        "1. HARD CODING USING VARIABLES"
      ],
      "metadata": {
        "id": "5IgoY-XCrEtW"
      }
    },
    {
      "cell_type": "code",
      "execution_count": 16,
      "metadata": {
        "colab": {
          "base_uri": "https://localhost:8080/"
        },
        "id": "bQx9GW88oeSU",
        "outputId": "e879ea48-7dff-4149-afa9-5824a6ad211b"
      },
      "outputs": [
        {
          "output_type": "stream",
          "name": "stdout",
          "text": [
            "The HARDCODING sum of 95 and 69 is:  164\n",
            "The HARDCODING difference of 95 and 69 is:  26\n",
            "The HARDCODING product of 95 and 69 is:  6555\n",
            "The HARDCODING quotient of 95 and 69 is:  1.3768115942028984\n",
            "The HARDCODING remainder of 95 and 69 is:  26\n"
          ]
        }
      ],
      "source": [
        "a = 95\n",
        "b = 69\n",
        "sum = a + b\n",
        "difference = a - b\n",
        "product = a * b\n",
        "quotient = a / b\n",
        "remainder = a % b\n",
        "print(\"The HARDCODING sum of\", a, \"and\", b, \"is: \" , sum)\n",
        "print(\"The HARDCODING difference of\", a, \"and\", b, \"is: \", difference)\n",
        "print(\"The HARDCODING product of\", a, \"and\", b, \"is: \" , product)\n",
        "print(\"The HARDCODING quotient of\", a, \"and\", b, \"is: \", quotient)\n",
        "print(\"The HARDCODING remainder of\", a, \"and\", b, \"is: \", remainder)"
      ]
    },
    {
      "cell_type": "markdown",
      "source": [
        "2. KEYBOARD INPUT VARIABLES"
      ],
      "metadata": {
        "id": "EnrGvPEtrYQ7"
      }
    },
    {
      "cell_type": "code",
      "source": [
        "try:\n",
        "    a = int(input(\"Enter the first number: \"))\n",
        "    b = int(input(\"Enter the second number: \"))\n",
        "    sum = a + b\n",
        "    difference = a - b\n",
        "    product = a * b\n",
        "    quotient = a / b\n",
        "    remainder = a % b\n",
        "    print(\"The sum of\", a, \"and\", b, \"is: \" , sum)\n",
        "    print(\"The difference of\", a, \"and\", b, \"is: \", difference)\n",
        "    print(\"The product of\", a, \"and\", b, \"is: \" , product)\n",
        "    print(\"The quotient of\", a, \"and\", b, \"is: \", quotient)\n",
        "    print(\"The remainder of\", a, \"and\", b, \"is: \", remainder)\n",
        "except ValueError:\n",
        "    print(\"Invalid input. Please enter valid numbers.\")"
      ],
      "metadata": {
        "colab": {
          "base_uri": "https://localhost:8080/"
        },
        "id": "kaJeOlrAq4TM",
        "outputId": "0a064068-f1a4-4542-c7d0-789c83a376cf"
      },
      "execution_count": 17,
      "outputs": [
        {
          "output_type": "stream",
          "name": "stdout",
          "text": [
            "Enter the first number: 25\n",
            "Enter the second number: 36\n",
            "The sum of 25 and 36 is:  61\n",
            "The difference of 25 and 36 is:  -11\n",
            "The product of 25 and 36 is:  900\n",
            "The quotient of 25 and 36 is:  0.6944444444444444\n",
            "The remainder of 25 and 36 is:  25\n"
          ]
        }
      ]
    },
    {
      "cell_type": "markdown",
      "source": [
        "3. READ FROM FILE - SINGLE INPUT"
      ],
      "metadata": {
        "id": "d6ufbjgisBu-"
      }
    },
    {
      "cell_type": "code",
      "source": [
        "with open(\"singleinput.txt\", \"w\") as file:\n",
        "    file.write(\"256\")\n",
        "try:\n",
        "    with open(\"singleinput.txt\", \"r\") as file:\n",
        "        a = int(file.read())\n",
        "        print(\"The number from the file is:\", a)\n",
        "        b = int(input(\"Enter the second number: \"))\n",
        "        product = a * b\n",
        "        print(\"The product of\", a, \"and\", b, \"is: \" , product)\n",
        "except ValueError:\n",
        "    print(\"Invalid input. Please enter valid numbers.\")\n",
        "except FileNotFoundError:\n",
        "    print(\"File not found.\")"
      ],
      "metadata": {
        "colab": {
          "base_uri": "https://localhost:8080/"
        },
        "id": "gmdPHtSvsVTS",
        "outputId": "f74e4114-e9de-490c-846b-fd724902d26f"
      },
      "execution_count": 22,
      "outputs": [
        {
          "output_type": "stream",
          "name": "stdout",
          "text": [
            "The number from the file is: 256\n",
            "Enter the second number: 128\n",
            "The product of 256 and 128 is:  32768\n"
          ]
        }
      ]
    },
    {
      "cell_type": "markdown",
      "source": [
        "4. READ FROM FILE - MULTIPLE INPUTS"
      ],
      "metadata": {
        "id": "HKVchsQKt1Af"
      }
    },
    {
      "cell_type": "code",
      "source": [
        "with open(\"multipleinput.txt\", \"w\") as file:\n",
        "    file.write(\"256\\n128\\n64\")\n",
        "try:\n",
        "    with open(\"multipleinput.txt\", \"r\") as file:\n",
        "        a = int(file.readline())\n",
        "        b = int(file.readline())\n",
        "        c = int(file.readline())\n",
        "        print(\"The numbers from the file are:\", a, b, c)\n",
        "        sum = a + b + c\n",
        "        difference = a - b - c\n",
        "        product = a * b * c\n",
        "        quotient = a / b / c\n",
        "        remainder = a % b % c\n",
        "        print(\"The sum of\", a, b, c, \"is: \" , sum)\n",
        "        print(\"The difference of\", a, b, c, \"is: \", difference)\n",
        "        print(\"The product of\", a, b, c, \"is: \" , product)\n",
        "        print(\"The quotient of\", a, b, c, \"is: \", quotient)\n",
        "        print(\"The remainder of\", a, b, c, \"is: \", remainder)\n",
        "except ValueError:\n",
        "    print(\"Invalid input. Please enter valid numbers.\")"
      ],
      "metadata": {
        "colab": {
          "base_uri": "https://localhost:8080/"
        },
        "id": "1hLWSLqst796",
        "outputId": "0b6b5e53-946e-42c6-df64-b474a3f16bf0"
      },
      "execution_count": 23,
      "outputs": [
        {
          "output_type": "stream",
          "name": "stdout",
          "text": [
            "The numbers from the file are: 256 128 64\n",
            "The sum of 256 128 64 is:  448\n",
            "The difference of 256 128 64 is:  64\n",
            "The product of 256 128 64 is:  2097152\n",
            "The quotient of 256 128 64 is:  0.03125\n",
            "The remainder of 256 128 64 is:  0\n"
          ]
        }
      ]
    }
  ]
}